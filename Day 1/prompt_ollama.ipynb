{
 "cells": [
  {
   "cell_type": "markdown",
   "metadata": {},
   "source": [
    "Ollama 설치\n",
    "https://ollama.com/download\n",
    "\n",
    "\n",
    "Terminal 에서 Llama3 실행\n",
    "ollama run llama3\n",
    "https://github.com/ollama/ollama\n",
    "\n",
    "\n",
    "API 를 통해 Ollama Llama3 모델에 프롬프트 입력하고 결과 받기\n",
    "\n",
    "\n",
    "Model phi3로 변경해서 2, 3 해보기\n",
    "\n",
    "\n",
    "사전에 작성한 2개의 역할 중 무엇이 사용자 입력 프롬프트에 대해 더 잘 답할 수 있을지 답변하는 프롬프트 작성하기 (질문에 대한 답변을 하는 것이 아니라 2개의 역할 중 어떤 역할이 잘 답할지를 답변하도록 하기)\n",
    "첫번째 역할: math teacher\n",
    "두번째 역할: history teacher\n",
    "사용자 입력 예) what is the Newton’s law? How did World War I end?\n",
    "\n",
    "\n",
    "5에서 작성한 프롬프트와 역할을 이용해, 사용자 입력에 적합한 역할로써 사용자 입력에 답하는 프롬프트 및 코드 작성하기\n",
    "\n",
    "\n",
    "오늘 배운 프롬프트 엔지니어링을 활용해 5번의 각 역할이 더 대답을 잘할 수 있도록 프롬프트 개선하기\n",
    "\n",
    "\n",
    "1부터 n 까지의 자연 수 중 m 개의 수를 list 를 받아 정렬하는 문제를 LLM 이 잘 풀 수 있도록 다양한 프롬프트 엔지니어링을 시도, 평가해보고 시도한 프롬프트의 테스트 케이스들에 대한 프롬프트별  성공률 및 순위를 작성\n"
   ]
  },
  {
   "cell_type": "code",
   "execution_count": 4,
   "metadata": {},
   "outputs": [],
   "source": [
    "prompt_teacher = '''[Rules]\n",
    "- Choose from the options given the role that is more appropriate to solve the given situation.\n",
    "- Don't add any additional explanation, just tell me the answer.\n",
    "- If there is no suitable role, you must answer “none”.\n",
    "\n",
    "[Options]\n",
    "1. math teacher\n",
    "2. history teacher\n",
    "\n",
    "[Given Situation]\n",
    "{user input}\n",
    "\n",
    "\n",
    "[Example 1]\n",
    "[User Input]\n",
    "What is Newton’s law?\n",
    "[Answer]\n",
    "math teacher\n",
    "\n",
    "\n",
    "[Example 2]\n",
    "[User Input]\n",
    "How did World War I end?\n",
    "[Answer]\n",
    "history teacher\n",
    "\n",
    "\n",
    "[User Input]\n",
    "'''"
   ]
  },
  {
   "cell_type": "code",
   "execution_count": 7,
   "metadata": {
    "vscode": {
     "languageId": "shellscript"
    }
   },
   "outputs": [
    {
     "name": "stdout",
     "output_type": "stream",
     "text": [
      "{\"model\":\"llama3\",\"created_at\":\"2024-06-17T09:13:29.467339Z\",\"response\":\"\",\"done\":true,\"done_reason\":\"load\"}\n"
     ]
    }
   ],
   "source": [
    "import requests\n",
    "url = 'http://localhost:11434/api/generate'\n",
    "data = {\n",
    "  \"model\": \"llama3\",\n",
    "  \"messages\": [\n",
    "    {\n",
    "      \"role\": \"system\",\n",
    "      \"content\": prompt_teacher\n",
    "    },\n",
    "    {\n",
    "      \"role\": \"user\",\n",
    "      \"content\": \"Who is second president of US?\"\n",
    "    }\n",
    "  ]\n",
    "}\n",
    "\n",
    "# POST 요청을 보냅니다\n",
    "response = requests.post(url, json=data)\n",
    "\n",
    "# 응답 출력\n",
    "print(response.text)\n"
   ]
  },
  {
   "cell_type": "code",
   "execution_count": 8,
   "metadata": {
    "vscode": {
     "languageId": "shellscript"
    }
   },
   "outputs": [
    {
     "name": "stdout",
     "output_type": "stream",
     "text": [
      "{\"model\":\"phi3\",\"created_at\":\"2024-06-17T09:13:44.34356Z\",\"response\":\"\",\"done\":true,\"done_reason\":\"load\"}\n"
     ]
    }
   ],
   "source": [
    "import requests\n",
    "url = 'http://localhost:11434/api/generate'\n",
    "data = {\n",
    "  \"model\": \"phi3\",\n",
    "  \"messages\": [\n",
    "    {\n",
    "      \"role\": \"system\",\n",
    "      \"content\": prompt_teacher\n",
    "    },\n",
    "    {\n",
    "      \"role\": \"user\",\n",
    "      \"content\": \"Who is second president of US?\"\n",
    "    }\n",
    "  ]\n",
    "}\n",
    "\n",
    "# POST 요청을 보냅니다\n",
    "response = requests.post(url, json=data)\n",
    "\n",
    "# 응답 출력\n",
    "print(response.text)\n"
   ]
  },
  {
   "cell_type": "code",
   "execution_count": 15,
   "metadata": {},
   "outputs": [],
   "source": [
    "prompt_sort = '''- You are the most accurate algorithmic function.\n",
    "- Sort the given number array in ascending order and show it again.\n",
    "- Sort using Quick Sort.\n",
    "- Show only the results without adding additional explanation.\n",
    "\n",
    "[Example 1]\n",
    "Input: [4, 1, 31, 9]\n",
    "Output: [1, 4, 9, 31]\n",
    "\n",
    "\n",
    "Input: '''"
   ]
  },
  {
   "cell_type": "code",
   "execution_count": 14,
   "metadata": {},
   "outputs": [
    {
     "name": "stdout",
     "output_type": "stream",
     "text": [
      "{\"model\":\"llama3\",\"created_at\":\"2024-06-17T08:39:15.480227Z\",\"message\":{\"role\":\"assistant\",\"content\":\"[\"},\"done\":false}\n",
      "{\"model\":\"llama3\",\"created_at\":\"2024-06-17T08:39:15.498975Z\",\"message\":{\"role\":\"assistant\",\"content\":\"20\"},\"done\":false}\n",
      "{\"model\":\"llama3\",\"created_at\":\"2024-06-17T08:39:15.517797Z\",\"message\":{\"role\":\"assistant\",\"content\":\",\"},\"done\":false}\n",
      "{\"model\":\"llama3\",\"created_at\":\"2024-06-17T08:39:15.536505Z\",\"message\":{\"role\":\"assistant\",\"content\":\" \"},\"done\":false}\n",
      "{\"model\":\"llama3\",\"created_at\":\"2024-06-17T08:39:15.555515Z\",\"message\":{\"role\":\"assistant\",\"content\":\"20\"},\"done\":false}\n",
      "{\"model\":\"llama3\",\"created_at\":\"2024-06-17T08:39:15.574342Z\",\"message\":{\"role\":\"assistant\",\"content\":\",\"},\"done\":false}\n",
      "{\"model\":\"llama3\",\"created_at\":\"2024-06-17T08:39:15.593084Z\",\"message\":{\"role\":\"assistant\",\"content\":\" \"},\"done\":false}\n",
      "{\"model\":\"llama3\",\"created_at\":\"2024-06-17T08:39:15.612084Z\",\"message\":{\"role\":\"assistant\",\"content\":\"33\"},\"done\":false}\n",
      "{\"model\":\"llama3\",\"created_at\":\"2024-06-17T08:39:15.630605Z\",\"message\":{\"role\":\"assistant\",\"content\":\",\"},\"done\":false}\n",
      "{\"model\":\"llama3\",\"created_at\":\"2024-06-17T08:39:15.649325Z\",\"message\":{\"role\":\"assistant\",\"content\":\" \"},\"done\":false}\n",
      "{\"model\":\"llama3\",\"created_at\":\"2024-06-17T08:39:15.668131Z\",\"message\":{\"role\":\"assistant\",\"content\":\"35\"},\"done\":false}\n",
      "{\"model\":\"llama3\",\"created_at\":\"2024-06-17T08:39:15.686902Z\",\"message\":{\"role\":\"assistant\",\"content\":\",\"},\"done\":false}\n",
      "{\"model\":\"llama3\",\"created_at\":\"2024-06-17T08:39:15.705525Z\",\"message\":{\"role\":\"assistant\",\"content\":\" \"},\"done\":false}\n",
      "{\"model\":\"llama3\",\"created_at\":\"2024-06-17T08:39:15.724484Z\",\"message\":{\"role\":\"assistant\",\"content\":\"42\"},\"done\":false}\n",
      "{\"model\":\"llama3\",\"created_at\":\"2024-06-17T08:39:15.743372Z\",\"message\":{\"role\":\"assistant\",\"content\":\",\"},\"done\":false}\n",
      "{\"model\":\"llama3\",\"created_at\":\"2024-06-17T08:39:15.762166Z\",\"message\":{\"role\":\"assistant\",\"content\":\" \"},\"done\":false}\n",
      "{\"model\":\"llama3\",\"created_at\":\"2024-06-17T08:39:15.781313Z\",\"message\":{\"role\":\"assistant\",\"content\":\"43\"},\"done\":false}\n",
      "{\"model\":\"llama3\",\"created_at\":\"2024-06-17T08:39:15.800228Z\",\"message\":{\"role\":\"assistant\",\"content\":\",\"},\"done\":false}\n",
      "{\"model\":\"llama3\",\"created_at\":\"2024-06-17T08:39:15.818922Z\",\"message\":{\"role\":\"assistant\",\"content\":\" \"},\"done\":false}\n",
      "{\"model\":\"llama3\",\"created_at\":\"2024-06-17T08:39:15.837916Z\",\"message\":{\"role\":\"assistant\",\"content\":\"44\"},\"done\":false}\n",
      "{\"model\":\"llama3\",\"created_at\":\"2024-06-17T08:39:15.856929Z\",\"message\":{\"role\":\"assistant\",\"content\":\",\"},\"done\":false}\n",
      "{\"model\":\"llama3\",\"created_at\":\"2024-06-17T08:39:15.875841Z\",\"message\":{\"role\":\"assistant\",\"content\":\" \"},\"done\":false}\n",
      "{\"model\":\"llama3\",\"created_at\":\"2024-06-17T08:39:15.894794Z\",\"message\":{\"role\":\"assistant\",\"content\":\"50\"},\"done\":false}\n",
      "{\"model\":\"llama3\",\"created_at\":\"2024-06-17T08:39:15.913765Z\",\"message\":{\"role\":\"assistant\",\"content\":\",\"},\"done\":false}\n",
      "{\"model\":\"llama3\",\"created_at\":\"2024-06-17T08:39:15.932932Z\",\"message\":{\"role\":\"assistant\",\"content\":\" \"},\"done\":false}\n",
      "{\"model\":\"llama3\",\"created_at\":\"2024-06-17T08:39:15.951906Z\",\"message\":{\"role\":\"assistant\",\"content\":\"56\"},\"done\":false}\n",
      "{\"model\":\"llama3\",\"created_at\":\"2024-06-17T08:39:15.970835Z\",\"message\":{\"role\":\"assistant\",\"content\":\",\"},\"done\":false}\n",
      "{\"model\":\"llama3\",\"created_at\":\"2024-06-17T08:39:15.989854Z\",\"message\":{\"role\":\"assistant\",\"content\":\" \"},\"done\":false}\n",
      "{\"model\":\"llama3\",\"created_at\":\"2024-06-17T08:39:16.008785Z\",\"message\":{\"role\":\"assistant\",\"content\":\"57\"},\"done\":false}\n",
      "{\"model\":\"llama3\",\"created_at\":\"2024-06-17T08:39:16.027728Z\",\"message\":{\"role\":\"assistant\",\"content\":\",\"},\"done\":false}\n",
      "{\"model\":\"llama3\",\"created_at\":\"2024-06-17T08:39:16.046684Z\",\"message\":{\"role\":\"assistant\",\"content\":\" \"},\"done\":false}\n",
      "{\"model\":\"llama3\",\"created_at\":\"2024-06-17T08:39:16.065607Z\",\"message\":{\"role\":\"assistant\",\"content\":\"67\"},\"done\":false}\n",
      "{\"model\":\"llama3\",\"created_at\":\"2024-06-17T08:39:16.084535Z\",\"message\":{\"role\":\"assistant\",\"content\":\",\"},\"done\":false}\n",
      "{\"model\":\"llama3\",\"created_at\":\"2024-06-17T08:39:16.103474Z\",\"message\":{\"role\":\"assistant\",\"content\":\" \"},\"done\":false}\n",
      "{\"model\":\"llama3\",\"created_at\":\"2024-06-17T08:39:16.122557Z\",\"message\":{\"role\":\"assistant\",\"content\":\"68\"},\"done\":false}\n",
      "{\"model\":\"llama3\",\"created_at\":\"2024-06-17T08:39:16.141899Z\",\"message\":{\"role\":\"assistant\",\"content\":\",\"},\"done\":false}\n",
      "{\"model\":\"llama3\",\"created_at\":\"2024-06-17T08:39:16.160703Z\",\"message\":{\"role\":\"assistant\",\"content\":\" \"},\"done\":false}\n",
      "{\"model\":\"llama3\",\"created_at\":\"2024-06-17T08:39:16.179576Z\",\"message\":{\"role\":\"assistant\",\"content\":\"70\"},\"done\":false}\n",
      "{\"model\":\"llama3\",\"created_at\":\"2024-06-17T08:39:16.198467Z\",\"message\":{\"role\":\"assistant\",\"content\":\",\"},\"done\":false}\n",
      "{\"model\":\"llama3\",\"created_at\":\"2024-06-17T08:39:16.217512Z\",\"message\":{\"role\":\"assistant\",\"content\":\" \"},\"done\":false}\n",
      "{\"model\":\"llama3\",\"created_at\":\"2024-06-17T08:39:16.236534Z\",\"message\":{\"role\":\"assistant\",\"content\":\"74\"},\"done\":false}\n",
      "{\"model\":\"llama3\",\"created_at\":\"2024-06-17T08:39:16.255344Z\",\"message\":{\"role\":\"assistant\",\"content\":\",\"},\"done\":false}\n",
      "{\"model\":\"llama3\",\"created_at\":\"2024-06-17T08:39:16.274343Z\",\"message\":{\"role\":\"assistant\",\"content\":\" \"},\"done\":false}\n",
      "{\"model\":\"llama3\",\"created_at\":\"2024-06-17T08:39:16.293317Z\",\"message\":{\"role\":\"assistant\",\"content\":\"77\"},\"done\":false}\n",
      "{\"model\":\"llama3\",\"created_at\":\"2024-06-17T08:39:16.312096Z\",\"message\":{\"role\":\"assistant\",\"content\":\",\"},\"done\":false}\n",
      "{\"model\":\"llama3\",\"created_at\":\"2024-06-17T08:39:16.330968Z\",\"message\":{\"role\":\"assistant\",\"content\":\" \"},\"done\":false}\n",
      "{\"model\":\"llama3\",\"created_at\":\"2024-06-17T08:39:16.349949Z\",\"message\":{\"role\":\"assistant\",\"content\":\"81\"},\"done\":false}\n",
      "{\"model\":\"llama3\",\"created_at\":\"2024-06-17T08:39:16.368857Z\",\"message\":{\"role\":\"assistant\",\"content\":\",\"},\"done\":false}\n",
      "{\"model\":\"llama3\",\"created_at\":\"2024-06-17T08:39:16.387834Z\",\"message\":{\"role\":\"assistant\",\"content\":\" \"},\"done\":false}\n",
      "{\"model\":\"llama3\",\"created_at\":\"2024-06-17T08:39:16.406919Z\",\"message\":{\"role\":\"assistant\",\"content\":\"85\"},\"done\":false}\n",
      "{\"model\":\"llama3\",\"created_at\":\"2024-06-17T08:39:16.426024Z\",\"message\":{\"role\":\"assistant\",\"content\":\",\"},\"done\":false}\n",
      "{\"model\":\"llama3\",\"created_at\":\"2024-06-17T08:39:16.445177Z\",\"message\":{\"role\":\"assistant\",\"content\":\" \"},\"done\":false}\n",
      "{\"model\":\"llama3\",\"created_at\":\"2024-06-17T08:39:16.464231Z\",\"message\":{\"role\":\"assistant\",\"content\":\"86\"},\"done\":false}\n",
      "{\"model\":\"llama3\",\"created_at\":\"2024-06-17T08:39:16.483052Z\",\"message\":{\"role\":\"assistant\",\"content\":\",\"},\"done\":false}\n",
      "{\"model\":\"llama3\",\"created_at\":\"2024-06-17T08:39:16.501993Z\",\"message\":{\"role\":\"assistant\",\"content\":\" \"},\"done\":false}\n",
      "{\"model\":\"llama3\",\"created_at\":\"2024-06-17T08:39:16.520991Z\",\"message\":{\"role\":\"assistant\",\"content\":\"86\"},\"done\":false}\n",
      "{\"model\":\"llama3\",\"created_at\":\"2024-06-17T08:39:16.539787Z\",\"message\":{\"role\":\"assistant\",\"content\":\",\"},\"done\":false}\n",
      "{\"model\":\"llama3\",\"created_at\":\"2024-06-17T08:39:16.558681Z\",\"message\":{\"role\":\"assistant\",\"content\":\" \"},\"done\":false}\n",
      "{\"model\":\"llama3\",\"created_at\":\"2024-06-17T08:39:16.578007Z\",\"message\":{\"role\":\"assistant\",\"content\":\"88\"},\"done\":false}\n",
      "{\"model\":\"llama3\",\"created_at\":\"2024-06-17T08:39:16.59743Z\",\"message\":{\"role\":\"assistant\",\"content\":\"]\"},\"done\":false}\n",
      "{\"model\":\"llama3\",\"created_at\":\"2024-06-17T08:39:16.616695Z\",\"message\":{\"role\":\"assistant\",\"content\":\"\"},\"done_reason\":\"stop\",\"done\":true,\"total_duration\":1298663416,\"load_duration\":1713541,\"prompt_eval_duration\":157599000,\"eval_count\":61,\"eval_duration\":1136406000}\n",
      "\n"
     ]
    }
   ],
   "source": [
    "import requests\n",
    "url = 'http://localhost:11434/api/chat'\n",
    "data = {\n",
    "  \"model\": \"llama3\",\n",
    "  \"messages\": [\n",
    "    {\n",
    "      \"role\": \"system\",\n",
    "      \"content\": prompt_sort\n",
    "    },\n",
    "    {\n",
    "      \"role\": \"user\",\n",
    "      \"content\": \"[77, 43, 81, 86, 85, 57, 44, 67, 86, 20, 35, 74, 70, 20, 56, 68, 33, 88, 50, 42]\"\n",
    "    }\n",
    "  ]\n",
    "}\n",
    "\n",
    "# POST 요청을 보냅니다\n",
    "response = requests.post(url, json=data)\n",
    "\n",
    "# 응답 출력\n",
    "print(response.text)\n"
   ]
  }
 ],
 "metadata": {
  "kernelspec": {
   "display_name": "Python 3",
   "language": "python",
   "name": "python3"
  },
  "language_info": {
   "codemirror_mode": {
    "name": "ipython",
    "version": 3
   },
   "file_extension": ".py",
   "mimetype": "text/x-python",
   "name": "python",
   "nbconvert_exporter": "python",
   "pygments_lexer": "ipython3",
   "version": "3.11.7"
  }
 },
 "nbformat": 4,
 "nbformat_minor": 2
}
